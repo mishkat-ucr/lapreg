{
 "cells": [
  {
   "cell_type": "code",
   "execution_count": 1,
   "metadata": {},
   "outputs": [],
   "source": [
    "import pickle as pkl\n",
    "import numpy as np\n",
    "import numpy.linalg as npl\n",
    "import scipy.linalg as spl\n",
    "import matplotlib.pyplot as plt\n",
    "import math\n",
    "import os\n",
    "import pickle"
   ]
  },
  {
   "cell_type": "code",
   "execution_count": 2,
   "metadata": {},
   "outputs": [],
   "source": [
    "def unpickle(file):\n",
    "    with open(file, 'rb') as fo:\n",
    "        dict = pkl.load(fo, encoding='bytes')\n",
    "    return dict"
   ]
  },
  {
   "cell_type": "code",
   "execution_count": 3,
   "metadata": {},
   "outputs": [],
   "source": [
    "def load_cifar(path = \"cifar-10-python/cifar-10-batches-py\"):\n",
    "    train_batches = []\n",
    "    train_labels = []\n",
    "\n",
    "    for i in range(1, 6):\n",
    "        cifar_out = unpickle(os.path.join(path, \"data_batch_{0}\".format(i)))\n",
    "        train_batches.append(cifar_out[b\"data\"])\n",
    "        train_labels.extend(cifar_out[b\"labels\"])\n",
    "    X_train= np.vstack(tuple(train_batches)).reshape(-1, 3, 32, 32)\n",
    "    y_train = np.array(train_labels)\n",
    "\n",
    "    cifar_out = unpickle(os.path.join(path, \"test_batch\"))\n",
    "    X_test = cifar_out[b\"data\"].reshape(-1, 3, 32, 32)\n",
    "    y_test = cifar_out[b\"labels\"]\n",
    "    \n",
    "    X_train = (X_train / 255.0).astype(np.float32) \n",
    "    X_test = (X_test / 255.0).astype(np.float32) \n",
    "    mean = X_train.mean(axis = (0, 2, 3)) \n",
    "    std = X_train.std(axis = (0, 2, 3)) \n",
    "    X_train = (X_train - mean[:, None, None]) / std[:, None, None]\n",
    "    X_test = (X_test - mean[:, None, None]) / std[:, None, None]\n",
    "\n",
    "    return (X_train, np.array(y_train)), (X_test, np.array(y_test))"
   ]
  },
  {
   "cell_type": "code",
   "execution_count": 4,
   "metadata": {},
   "outputs": [],
   "source": [
    "(X_train, y_train), (X_test, y_test) = load_cifar()\n",
    "\n",
    "sample_count = 5000\n",
    "class_count = [0] * 10\n",
    "count = 0\n",
    "X_sample = np.zeros((sample_count, 3, 32, 32))\n",
    "y_sample = np.zeros((sample_count))\n",
    "for i in range (50000):\n",
    "    for j in range (2):\n",
    "        if y_train[i] == j and class_count[j] < sample_count / 2:\n",
    "            X_sample[count] = np.array(X_train[i])\n",
    "            y_sample[count] = np.array(y_train[i]) \n",
    "            count += 1\n",
    "            class_count[j] += 1\n",
    "\n",
    "X_train = X_sample.astype(np.float32)\n",
    "y_train = y_sample.astype(np.int)\n",
    "            \n",
    "sample_count = 0\n",
    "class_count = [0] * 10\n",
    "count = 0\n",
    "X_sample = np.zeros((sample_count, 3, 32, 32))\n",
    "y_sample = np.zeros((sample_count))\n",
    "for i in range (10000):\n",
    "    for j in range (2):\n",
    "        if y_test[i] == j and class_count[j] < sample_count / 2:\n",
    "            X_sample[count] = np.array(X_test[i])\n",
    "            y_sample[count] = np.array(y_test[i]) \n",
    "            count += 1\n",
    "            class_count[j] += 1\n",
    "\n",
    "X_test = X_sample.astype(np.float32)\n",
    "y_test = y_sample.astype(np.int)"
   ]
  },
  {
   "cell_type": "code",
   "execution_count": 5,
   "metadata": {},
   "outputs": [],
   "source": [
    "X = np.concatenate((X_train, X_test), axis = 0)\n",
    "X = np.asarray(X).reshape(-1, 3, 1024)\n",
    "y = np.concatenate((y_train, y_test))\n",
    "N = X.shape[0]\n",
    "d = X.shape[2]"
   ]
  },
  {
   "cell_type": "code",
   "execution_count": 6,
   "metadata": {},
   "outputs": [
    {
     "name": "stdout",
     "output_type": "stream",
     "text": [
      "(5000, 3, 1024)\n",
      "(5000,)\n",
      "5000\n",
      "1024\n"
     ]
    }
   ],
   "source": [
    "print(X.shape)\n",
    "print(y.shape)\n",
    "print(N)\n",
    "print(d)"
   ]
  },
  {
   "cell_type": "code",
   "execution_count": 7,
   "metadata": {},
   "outputs": [],
   "source": [
    "# W = np.zeros((N, N))\n",
    "# for i in range(N):\n",
    "#     if i % 100 == 0:\n",
    "#         print(i * 100.0 / N)\n",
    "#     for j in range(N):\n",
    "#         W[i, j] = math.exp(-npl.norm(X[i] - X[j]) ** 2 / d)\n",
    "# print(100.0)"
   ]
  },
  {
   "cell_type": "code",
   "execution_count": null,
   "metadata": {},
   "outputs": [],
   "source": [
    "# # Depth of CNTK (#Convolution Layers + 1)\n",
    "# d = 3\n",
    "# # Whether GAP (Global Average Pooling) is used\n",
    "# gap = True\n",
    "# # Whether first layer and last layer are fixed or trained\n",
    "# fix = False\n",
    "\n",
    "# #CUDA kernel for convolution operation\n",
    "# conv3 = cp.RawKernel(r'''\n",
    "# extern \"C\" __global__\n",
    "# void conv3(const float s[32][32][32][32], float t[32][32][32][32])\n",
    "# {\n",
    "#     int x1 = threadIdx.x + blockIdx.x - 31;\n",
    "#     int y1 = threadIdx.y + blockIdx.y - 31;\n",
    "#     int x2 = threadIdx.x;\n",
    "#     int y2 = threadIdx.y;\n",
    "#     __shared__ float d[32 + 2][32 + 2];\n",
    "#     if (x2 == 0){\n",
    "#         d[0][y2 + 1] = d[33][y2 + 1] = 0;\n",
    "#         if (x2 == 0 && y2 == 0)\n",
    "#             d[0][0] = d[0][33] = d[33][0] = d[33][33] = 0; \n",
    "#     }\n",
    "#     if (y2 == 0){\n",
    "#         d[x2 + 1][0] = d[x2 + 1][33] = 0;\n",
    "#     }\n",
    "#     if (x1 < 0 || x1 > 31 || y1 < 0 || y1 > 31){\n",
    "#         d[x2 + 1][y2 + 1] = 0;\n",
    "#         return;\n",
    "#     }\n",
    "#     else\n",
    "#         d[x2 + 1][y2 + 1] = s[x1][y1][x2][y2];\n",
    "#     __syncthreads();\n",
    "#     t[x1][y1][x2][y2] = d[x2][y2] + d[x2][y2 + 1] + d[x2][y2 + 2]\n",
    "#                       + d[x2 + 1][y2] + d[x2 + 1][y2 + 1] + d[x2 + 1][y2 + 2]\n",
    "#                       + d[x2 + 2][y2] + d[x2 + 2][y2 + 1] + d[x2 + 2][y2 + 2];\n",
    "# }''', 'conv3')\n",
    "# conv_blocks = (63, 63)\n",
    "# conv_threads = (32, 32)\n",
    "\n",
    "# #CUDA kernel for activation\n",
    "# trans = cp.RawKernel(r'''\n",
    "# extern \"C\" __global__\n",
    "# void trans(float s[32][32][32][32], float t[32][32][32][32], const float l[32][32], const float r[32][32], const float il[32][32], const float ir[32][32])\n",
    "# {\n",
    "#     int x1 = blockIdx.x;\n",
    "#     int y1 = blockIdx.y;\n",
    "#     int x2 = threadIdx.x + ((blockIdx.z >> 2) << 3);\n",
    "#     int y2 = threadIdx.y + ((blockIdx.z & 3) << 3);\n",
    "#     float S = s[x1][y1][x2][y2], T = t[x1][y1][x2][y2], L = l[x1][y1], R = r[x2][y2], iL = il[x1][y1], iR = ir[x2][y2];\n",
    "#     S = S * iL * iR;\n",
    "#     float BS = (S * (3.141592654f - acosf(max(min(S, 1.0f), -1.0f))) + sqrtf(1.0f - min(S * S, 1.0f))) * L * R / 28.274333882308138f;\n",
    "#     S = (3.141592654f - acosf(max(min(S, 1.0f), -1.0f))) / 28.274333882308138;\n",
    "#     t[x1][y1][x2][y2] = T * S + BS;\n",
    "#     s[x1][y1][x2][y2] = BS;\n",
    "# }''', 'trans')\n",
    "# trans_blocks = (32, 32, 16)\n",
    "# trans_threads = (8, 8)\n",
    "\n",
    "# #Calculate diagonal entries of $\\Sigma^{(h)}(x, x)$ and their reciprocals\n",
    "# def xx(x):\n",
    "#     RL = [1.0, ]\n",
    "#     iRL = [1.0, ]\n",
    "\n",
    "#     S = cp.matmul(x.T, x).reshape(32, 32, 32, 32)\n",
    "#     conv3(conv_blocks, conv_threads, (S, S))\n",
    "#     T = cp.zeros((32, 32, 32, 32), dtype = cp.float32)\n",
    "#     if not fix:\n",
    "#         T += S\n",
    "\n",
    "#     for i in range(1, d - 1):\n",
    "#         L = cp.sqrt(cp.diag(S.reshape(1024, 1024)).reshape(32, 32))\n",
    "#         iL = 1.0 / L\n",
    "#         RL.append(L)\n",
    "#         iRL.append(iL)\n",
    "#         trans(trans_blocks, trans_threads, (S, T, L, L, iL, iL))\n",
    "#         conv3(conv_blocks, conv_threads, (S, S))\n",
    "#         conv3(conv_blocks, conv_threads, (T, T))\n",
    "\n",
    "#     L = cp.sqrt(cp.diag(S.reshape(1024, 1024)).reshape(32, 32))\n",
    "#     iL = 1.0 / L\n",
    "#     RL.append(L)\n",
    "#     iRL.append(iL)\n",
    "#     trans(trans_blocks, trans_threads, (S, T, L, L, iL, iL))\n",
    "\n",
    "#     if fix:\n",
    "#         T -= S\n",
    "#     return RL, iRL\n",
    "\n",
    "# #Caclulate the kernel value of x and z.\n",
    "# #Lx and Lz are diagonal entries of $\\Sigma^{(h)}(x, x)$ and $\\Sigma^{(h)}(z, z)$. \n",
    "# #iLx and iLz are reciprocals of diagonal entries of $\\Sigma^{(h)}(x, x)$ and $\\Sigma^{(h)}(z, z)$. \n",
    "# def xz(x, z, Lx, Lz, iLx, iLz):\n",
    "#     S = cp.matmul(x.T, z).reshape(32, 32, 32, 32)\n",
    "#     conv3(conv_blocks, conv_threads, (S, S))\n",
    "#     T = cp.zeros((32, 32, 32, 32), dtype = cp.float32)\n",
    "#     if not fix:\n",
    "#         T += S\n",
    "\n",
    "#     for i in range(1, d - 1):\n",
    "#         trans(trans_blocks, trans_threads, (S, T, Lx[i], Lz[i], iLx[i], iLz[i]))\n",
    "#         conv3(conv_blocks, conv_threads, (S, S))\n",
    "#         conv3(conv_blocks, conv_threads, (T, T))\n",
    "\n",
    "#     trans(trans_blocks, trans_threads, (S, T, Lx[-1], Lz[-1], iLx[-1], iLz[-1]))\n",
    "\n",
    "#     if fix:\n",
    "#         T -= S\n",
    "#     return cp.mean(T) if gap else cp.trace(T.reshape(1024, 1024))"
   ]
  },
  {
   "cell_type": "code",
   "execution_count": 8,
   "metadata": {},
   "outputs": [],
   "source": [
    "infile = open('lapreg', 'rb') \n",
    "W = pkl.load(infile)                      \n",
    "infile.close() "
   ]
  },
  {
   "cell_type": "code",
   "execution_count": 9,
   "metadata": {},
   "outputs": [],
   "source": [
    "infile = open('cntk', 'rb') \n",
    "H = pkl.load(infile)                      \n",
    "infile.close() "
   ]
  },
  {
   "cell_type": "code",
   "execution_count": 10,
   "metadata": {},
   "outputs": [
    {
     "name": "stdout",
     "output_type": "stream",
     "text": [
      "0.8752\n"
     ]
    }
   ],
   "source": [
    "n_l = N // 2\n",
    "n_u = N - n_l\n",
    "y = (y + 1) // 2\n",
    "y_l = y[:n_l]\n",
    "y_t = np.ones((n_l, 2)) * -0.1\n",
    "for i in range(n_l):\n",
    "    y_t[i][y_l[i]] = 0.9\n",
    "u = np.dot(W[n_l:, :n_l], np.dot(npl.inv(W[:n_l, :n_l]), y_t))\n",
    "y_u = np.argmax(u, axis = 1)\n",
    "print(1.0 * np.sum(y[-N // 2:] == y_u) / n_u)"
   ]
  },
  {
   "cell_type": "code",
   "execution_count": 11,
   "metadata": {},
   "outputs": [
    {
     "name": "stdout",
     "output_type": "stream",
     "text": [
      "0.8968\n"
     ]
    }
   ],
   "source": [
    "n_l = N // 2\n",
    "n_u = N - n_l\n",
    "y = (y + 1) // 2\n",
    "y_l = y[:n_l]\n",
    "y_t = np.ones((n_l, 2)) * -0.1\n",
    "for i in range(n_l):\n",
    "    y_t[i][y_l[i]] = 0.9\n",
    "u = np.dot(H[n_l:, :n_l], np.dot(npl.inv(H[:n_l, :n_l]), y_t))\n",
    "y_u = np.argmax(u, axis = 1)\n",
    "print(1.0 * np.sum(y[-N // 2:] == y_u) / n_u)"
   ]
  },
  {
   "cell_type": "code",
   "execution_count": 12,
   "metadata": {},
   "outputs": [],
   "source": [
    "y = 2 * y - 1"
   ]
  },
  {
   "cell_type": "code",
   "execution_count": 13,
   "metadata": {},
   "outputs": [
    {
     "data": {
      "image/png": "[encoded data removed]",
      "text/plain": [
       "<Figure size 432x288 with 1 Axes>"
      ]
     },
     "metadata": {
      "needs_background": "light"
     },
     "output_type": "display_data"
    }
   ],
   "source": [
    "D = np.diag(np.sum(W, axis = 1))\n",
    "L = D - W\n",
    "D_prime = spl.fractional_matrix_power(D, -0.5)\n",
    "I = np.identity(N)\n",
    "L = I - np.dot(D_prime, np.dot(W, D_prime))\n",
    "evalue, evector = npl.eig(L)\n",
    "plt.plot(evalue, '.')\n",
    "plt.show()\n",
    "f = evector[:, 1]"
   ]
  },
  {
   "cell_type": "code",
   "execution_count": 14,
   "metadata": {},
   "outputs": [
    {
     "name": "stdout",
     "output_type": "stream",
     "text": [
      "0.6432\n"
     ]
    }
   ],
   "source": [
    "f = f - np.median(f)\n",
    "y_u = -np.sign(f)\n",
    "print(1.0 * np.sum(y[-N // 2:] == y_u[-N // 2:]) / (N // 2))"
   ]
  },
  {
   "cell_type": "code",
   "execution_count": 17,
   "metadata": {},
   "outputs": [
    {
     "data": {
      "image/png": "[encoded data removed]",
      "text/plain": [
       "<Figure size 432x288 with 1 Axes>"
      ]
     },
     "metadata": {
      "needs_background": "light"
     },
     "output_type": "display_data"
    }
   ],
   "source": [
    "D = np.diag(np.sum(H, axis = 1))\n",
    "L = D - H\n",
    "D_prime = spl.fractional_matrix_power(D, -0.5)\n",
    "I = np.identity(N)\n",
    "L = I - np.dot(D_prime, np.dot(H, D_prime))\n",
    "evalue, evector = npl.eig(L)\n",
    "plt.plot(evalue, '.')\n",
    "plt.show()\n",
    "f = evector[:, 1]"
   ]
  },
  {
   "cell_type": "code",
   "execution_count": 18,
   "metadata": {},
   "outputs": [
    {
     "name": "stdout",
     "output_type": "stream",
     "text": [
      "0.6924\n"
     ]
    }
   ],
   "source": [
    "f = f - np.median(f)\n",
    "y_u = -np.sign(f)\n",
    "print(1.0 * np.sum(y[-N // 2:] == y_u[-N // 2:]) / (N // 2))"
   ]
  },
  {
   "cell_type": "code",
   "execution_count": 19,
   "metadata": {},
   "outputs": [],
   "source": [
    "# num_labeled_1 = np.zeros(26)\n",
    "# accuracy_1 = np.zeros(26)\n",
    "# cnt = 0\n",
    "# for i in range (0, N // 2 + 1, N // 50):\n",
    "#     n_l = i\n",
    "#     n_u = N - n_l\n",
    "#     y_l = y[:n_l]\n",
    "#     f_l = y_l\n",
    "#     f_u = -np.dot(npl.inv(L[n_l:, n_l:]), np.dot(L[n_l:, :n_l], f_l))\n",
    "#     f_u = f_u - np.median(f_u)\n",
    "#     y_u = np.sign(f_u)\n",
    "#     num_labeled_1[cnt] = n_l\n",
    "#     accuracy_1[cnt] = 1.0 * np.sum(y[-N // 2:] == y_u[-N // 2:]) / (N // 2)\n",
    "#     cnt += 1"
   ]
  },
  {
   "cell_type": "code",
   "execution_count": 20,
   "metadata": {},
   "outputs": [],
   "source": [
    "I = np.identity(N)\n",
    "ones = np.ones((N, N))\n",
    "P = I - ones / N\n",
    "W_cap = np.dot(P, np.dot(W, P))\n",
    "alpha = 100000\n",
    "num_labeled_2 = np.zeros(26)\n",
    "accuracy_2 = np.zeros(26)\n",
    "cnt = 0\n",
    "for i in range (0, N // 2 + 1, N // 50):\n",
    "    n_l = i\n",
    "    n_u = N - n_l\n",
    "    y_l = y[:n_l]\n",
    "    f_l = y_l\n",
    "    I_u = np.identity(n_u)\n",
    "    f_u = np.dot(npl.inv(alpha * I_u - W_cap[n_l:, n_l:]), np.dot(W_cap[n_l:, :n_l], f_l))\n",
    "    f_u = f_u - np.median(f_u)\n",
    "    y_u = np.sign(f_u)\n",
    "    num_labeled_2[cnt] = n_l\n",
    "    accuracy_2[cnt] = 1.0 * np.sum(y[-N // 2:] == y_u[-N // 2:]) / (N // 2)\n",
    "    cnt += 1"
   ]
  },
  {
   "cell_type": "code",
   "execution_count": 21,
   "metadata": {},
   "outputs": [],
   "source": [
    "I = np.identity(N)\n",
    "ones = np.ones((N, N))\n",
    "P = I - ones / N\n",
    "H_cap = np.dot(P, np.dot(H, P))\n",
    "alpha = 100000\n",
    "num_labeled_3 = np.zeros(26)\n",
    "accuracy_3 = np.zeros(26)\n",
    "cnt = 0\n",
    "for i in range (0, N // 2 + 1, N // 50):\n",
    "    n_l = i\n",
    "    n_u = N - n_l\n",
    "    y_l = y[:n_l]\n",
    "    f_l = y_l\n",
    "    I_u = np.identity(n_u)\n",
    "    f_u = np.dot(npl.inv(alpha * I_u - H_cap[n_l:, n_l:]), np.dot(H_cap[n_l:, :n_l], f_l))\n",
    "    f_u = f_u - np.median(f_u)\n",
    "    y_u = np.sign(f_u)\n",
    "    num_labeled_3[cnt] = n_l\n",
    "    accuracy_3[cnt] = 1.0 * np.sum(y[-N // 2:] == y_u[-N // 2:]) / (N // 2)\n",
    "    cnt += 1"
   ]
  },
  {
   "cell_type": "code",
   "execution_count": 22,
   "metadata": {},
   "outputs": [
    {
     "data": {
      "image/png": "[encoded data removed]",
      "text/plain": [
       "<Figure size 432x288 with 1 Axes>"
      ]
     },
     "metadata": {
      "needs_background": "light"
     },
     "output_type": "display_data"
    }
   ],
   "source": [
    "plt.plot(num_labeled_2, accuracy_2, 'r-', label = 'rbf')\n",
    "plt.plot(num_labeled_3, accuracy_3, 'g-', label = 'arora')\n",
    "plt.xlabel('number of labled data')\n",
    "plt.ylabel('accuracy')\n",
    "plt.legend()\n",
    "plt.show()"
   ]
  },
  {
   "cell_type": "code",
   "execution_count": null,
   "metadata": {},
   "outputs": [],
   "source": []
  }
 ],
 "metadata": {
  "kernelspec": {
   "display_name": "Python 3",
   "language": "python",
   "name": "python3"
  },
  "language_info": {
   "codemirror_mode": {
    "name": "ipython",
    "version": 3
   },
   "file_extension": ".py",
   "mimetype": "text/x-python",
   "name": "python",
   "nbconvert_exporter": "python",
   "pygments_lexer": "ipython3",
   "version": "3.7.3"
  }
 },
 "nbformat": 4,
 "nbformat_minor": 2
}
